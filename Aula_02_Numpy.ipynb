{
  "nbformat": 4,
  "nbformat_minor": 0,
  "metadata": {
    "colab": {
      "name": "Aula-02-Numpy.ipynb",
      "provenance": [],
      "collapsed_sections": [],
      "authorship_tag": "ABX9TyOLkcalzKNxCxONT3PRsqHx",
      "include_colab_link": true
    },
    "kernelspec": {
      "name": "python3",
      "display_name": "Python 3"
    },
    "language_info": {
      "name": "python"
    }
  },
  "cells": [
    {
      "cell_type": "markdown",
      "metadata": {
        "id": "view-in-github",
        "colab_type": "text"
      },
      "source": [
        "<a href=\"https://colab.research.google.com/github/crisfisico/minicurso-python/blob/main/Aula_02_Numpy.ipynb\" target=\"_parent\"><img src=\"https://colab.research.google.com/assets/colab-badge.svg\" alt=\"Open In Colab\"/></a>"
      ]
    },
    {
      "cell_type": "markdown",
      "metadata": {
        "id": "vRaP4TALQe27"
      },
      "source": [
        "## A versao em uso do Python"
      ]
    },
    {
      "cell_type": "code",
      "metadata": {
        "colab": {
          "base_uri": "https://localhost:8080/"
        },
        "id": "T_w5Ic0fOwF2",
        "outputId": "4599b4a2-2417-4643-f5ad-52bd114ef499"
      },
      "source": [
        "!python --version"
      ],
      "execution_count": null,
      "outputs": [
        {
          "output_type": "stream",
          "text": [
            "Python 3.7.11\n"
          ],
          "name": "stdout"
        }
      ]
    },
    {
      "cell_type": "markdown",
      "metadata": {
        "id": "YvsVPA-umbHb"
      },
      "source": [
        "# Biblioteca Numpy"
      ]
    },
    {
      "cell_type": "code",
      "metadata": {
        "id": "B9iAidjMnzCM",
        "colab": {
          "base_uri": "https://localhost:8080/"
        },
        "outputId": "af2fb80d-2517-4058-e40b-40ac2fcd6f95"
      },
      "source": [
        "import numpy as np\n",
        "print(np.__version__)"
      ],
      "execution_count": 1,
      "outputs": [
        {
          "output_type": "stream",
          "text": [
            "1.19.5\n"
          ],
          "name": "stdout"
        }
      ]
    },
    {
      "cell_type": "code",
      "metadata": {
        "colab": {
          "base_uri": "https://localhost:8080/"
        },
        "id": "9LgvtnpAoje7",
        "outputId": "bb02c9af-a3e0-4dc0-cbf0-690cde510e7b"
      },
      "source": [
        "# criando um array de dim 1\n",
        "A = np.array([1,2,3])\n",
        "print(A)\n",
        "print(type(A))"
      ],
      "execution_count": null,
      "outputs": [
        {
          "output_type": "stream",
          "text": [
            "[1 2 3]\n",
            "<class 'numpy.ndarray'>\n"
          ],
          "name": "stdout"
        }
      ]
    },
    {
      "cell_type": "code",
      "metadata": {
        "colab": {
          "base_uri": "https://localhost:8080/"
        },
        "id": "3-HyZzGbpnoq",
        "outputId": "9b7ded4c-826c-45cf-aaac-459fc0e5f366"
      },
      "source": [
        "# alguns atributos do array A\n",
        "print(A.ndim)  # a dimensao de A\n",
        "print(A.shape) # as dimensoes do array\n",
        "print(A.size)  # numero de elementos de A\n",
        "print(A.dtype) # tipo numerico dos elementos"
      ],
      "execution_count": null,
      "outputs": [
        {
          "output_type": "stream",
          "text": [
            "1\n",
            "(3,)\n",
            "3\n",
            "int64\n"
          ],
          "name": "stdout"
        }
      ]
    },
    {
      "cell_type": "code",
      "metadata": {
        "colab": {
          "base_uri": "https://localhost:8080/"
        },
        "id": "3a3k6azWpx7t",
        "outputId": "719c1840-75e9-4c7e-d92d-32a49b1f2545"
      },
      "source": [
        "# Acessando os elementos:\n",
        "print(A[0])\n",
        "print(A[1])\n",
        "print(A)"
      ],
      "execution_count": null,
      "outputs": [
        {
          "output_type": "stream",
          "text": [
            "1\n",
            "2\n",
            "[1 2 3]\n"
          ],
          "name": "stdout"
        }
      ]
    },
    {
      "cell_type": "code",
      "metadata": {
        "colab": {
          "base_uri": "https://localhost:8080/"
        },
        "id": "xkB6RCGxqpoy",
        "outputId": "113da60b-6d27-4471-81da-13b1ceb037a0"
      },
      "source": [
        "# criando um array de dim 2 (tbm conhecido como matriz - na algebra linear)\n",
        "B = np.array([[1,2,3],[4,5,6],[7,8,9]])\n",
        "print(B)\n",
        "print(type(B))\n",
        "print(B.shape)"
      ],
      "execution_count": null,
      "outputs": [
        {
          "output_type": "stream",
          "text": [
            "[[1 2 3]\n",
            " [4 5 6]\n",
            " [7 8 9]]\n",
            "<class 'numpy.ndarray'>\n",
            "(3, 3)\n"
          ],
          "name": "stdout"
        }
      ]
    },
    {
      "cell_type": "code",
      "metadata": {
        "colab": {
          "base_uri": "https://localhost:8080/"
        },
        "id": "n9V6wV7hrRiL",
        "outputId": "adb89814-c5b1-47ef-9b73-192e2f9e0720"
      },
      "source": [
        "print(B[0][0]) # (1,1)\n",
        "print(B[0][1]) # (1,2)"
      ],
      "execution_count": null,
      "outputs": [
        {
          "output_type": "stream",
          "text": [
            "1\n",
            "2\n"
          ],
          "name": "stdout"
        }
      ]
    },
    {
      "cell_type": "code",
      "metadata": {
        "id": "WHaBPgTcr7Gz"
      },
      "source": [
        "# Tarefas:\n",
        "#1)refaçam os dois blocos acima para o caso float e complex.\n",
        "#2)refaçam o bloco \"A\" A = np.array([1,2,3],dtype=X), trocando X por int, float e complex"
      ],
      "execution_count": null,
      "outputs": []
    },
    {
      "cell_type": "markdown",
      "metadata": {
        "id": "PosPqG1qtPXa"
      },
      "source": [
        "## funcoes uteis em Numpy"
      ]
    },
    {
      "cell_type": "code",
      "metadata": {
        "colab": {
          "base_uri": "https://localhost:8080/"
        },
        "id": "7PLxKs0nsc6s",
        "outputId": "1653796f-2bee-4bf2-efe6-84581ac8134d"
      },
      "source": [
        "A = np.zeros((2,2))\n",
        "print(A)\n",
        "B = np.ones((2,2))\n",
        "print(B)\n",
        "C = np.empty((3,3))\n",
        "print(C)\n",
        "D = np.identity(4)\n",
        "print(D)"
      ],
      "execution_count": null,
      "outputs": [
        {
          "output_type": "stream",
          "text": [
            "[[0. 0.]\n",
            " [0. 0.]]\n",
            "[[1. 1.]\n",
            " [1. 1.]]\n",
            "[[4.9e-324 9.9e-324 1.5e-323]\n",
            " [2.0e-323 2.5e-323 3.0e-323]\n",
            " [3.5e-323 4.0e-323 4.4e-323]]\n",
            "[[1. 0. 0. 0.]\n",
            " [0. 1. 0. 0.]\n",
            " [0. 0. 1. 0.]\n",
            " [0. 0. 0. 1.]]\n"
          ],
          "name": "stdout"
        }
      ]
    },
    {
      "cell_type": "code",
      "metadata": {
        "colab": {
          "base_uri": "https://localhost:8080/"
        },
        "id": "7QTe0tX1uefL",
        "outputId": "232522d9-22a8-48e5-dca9-537d6fdabe9f"
      },
      "source": [
        "# Funcao arange()\n",
        "A = np.arange(0,4,1)\n",
        "print(A)"
      ],
      "execution_count": null,
      "outputs": [
        {
          "output_type": "stream",
          "text": [
            "[0 1 2 3]\n"
          ],
          "name": "stdout"
        }
      ]
    },
    {
      "cell_type": "code",
      "metadata": {
        "colab": {
          "base_uri": "https://localhost:8080/"
        },
        "id": "k8d_cI4Quspt",
        "outputId": "0502026c-ce1b-45ad-8912-e1f643769ce9"
      },
      "source": [
        "# Funcao linspace()\n",
        "B = np.linspace(0,4,5)\n",
        "print(B)\n",
        "C = np.linspace(0,4,10)\n",
        "print(C)"
      ],
      "execution_count": null,
      "outputs": [
        {
          "output_type": "stream",
          "text": [
            "[0. 1. 2. 3. 4.]\n",
            "[0.         0.44444444 0.88888889 1.33333333 1.77777778 2.22222222\n",
            " 2.66666667 3.11111111 3.55555556 4.        ]\n"
          ],
          "name": "stdout"
        }
      ]
    },
    {
      "cell_type": "code",
      "metadata": {
        "colab": {
          "base_uri": "https://localhost:8080/"
        },
        "id": "Tb77CJ7VvCP1",
        "outputId": "0f8501ab-90a4-4486-f903-825c81c18dbc"
      },
      "source": [
        "# duplicando cada elemento de uma lista\n",
        "a = [1,2,3,4]\n",
        "b = a+a\n",
        "print(a)\n",
        "print(b)"
      ],
      "execution_count": null,
      "outputs": [
        {
          "output_type": "stream",
          "text": [
            "[1, 2, 3, 4]\n",
            "[1, 2, 3, 4, 1, 2, 3, 4]\n"
          ],
          "name": "stdout"
        }
      ]
    },
    {
      "cell_type": "code",
      "metadata": {
        "colab": {
          "base_uri": "https://localhost:8080/"
        },
        "id": "jypelpDkv0H7",
        "outputId": "360e8c8c-9ea4-4b70-e700-bb76dc0557c6"
      },
      "source": [
        "# duplicando cada elemento de um array\n",
        "A = np.array([1,2,3,4])\n",
        "B = A + A \n",
        "print(A)\n",
        "print(B) "
      ],
      "execution_count": null,
      "outputs": [
        {
          "output_type": "stream",
          "text": [
            "[1 2 3 4]\n",
            "[2 4 6 8]\n"
          ],
          "name": "stdout"
        }
      ]
    },
    {
      "cell_type": "code",
      "metadata": {
        "colab": {
          "base_uri": "https://localhost:8080/"
        },
        "id": "qqa4avx1wHUa",
        "outputId": "707808de-fddb-407e-838f-f81d7d0a8682"
      },
      "source": [
        "C = 3*A\n",
        "print(A)\n",
        "print(C)"
      ],
      "execution_count": null,
      "outputs": [
        {
          "output_type": "stream",
          "text": [
            "[1 2 3 4]\n",
            "[ 3  6  9 12]\n"
          ],
          "name": "stdout"
        }
      ]
    },
    {
      "cell_type": "code",
      "metadata": {
        "colab": {
          "base_uri": "https://localhost:8080/"
        },
        "id": "XN700ZSHxl6K",
        "outputId": "f01cd6d2-ff42-4f36-d256-6edfa972d92f"
      },
      "source": [
        "A = np.array([[1,2],[3,4]])\n",
        "D = A*A\n",
        "print(A)\n",
        "print(D)"
      ],
      "execution_count": null,
      "outputs": [
        {
          "output_type": "stream",
          "text": [
            "[[1 2]\n",
            " [3 4]]\n",
            "[[ 1  4]\n",
            " [ 9 16]]\n"
          ],
          "name": "stdout"
        }
      ]
    },
    {
      "cell_type": "code",
      "metadata": {
        "id": "sYrVNdgNwtY4"
      },
      "source": [
        "# NOTA: as operacoes sao feitas elemento a elemento!"
      ],
      "execution_count": null,
      "outputs": []
    },
    {
      "cell_type": "code",
      "metadata": {
        "colab": {
          "base_uri": "https://localhost:8080/"
        },
        "id": "cK7Yt0aByFzq",
        "outputId": "0ff33505-869f-4fbb-c53f-ba134a40a6db"
      },
      "source": [
        "E = A@A\n",
        "F = A.dot(A)\n",
        "print(E)\n",
        "print(F)"
      ],
      "execution_count": null,
      "outputs": [
        {
          "output_type": "stream",
          "text": [
            "[[ 7 10]\n",
            " [15 22]]\n",
            "[[ 7 10]\n",
            " [15 22]]\n"
          ],
          "name": "stdout"
        }
      ]
    },
    {
      "cell_type": "code",
      "metadata": {
        "colab": {
          "base_uri": "https://localhost:8080/"
        },
        "id": "SoXdeJ_Bw8Tx",
        "outputId": "8986177a-a736-40fc-eefa-b5836790a233"
      },
      "source": [
        "A = np.arange(1,5,1)\n",
        "print(A)\n",
        "B = np.arange(1,5,1).reshape(2,2)\n",
        "print(B)"
      ],
      "execution_count": 2,
      "outputs": [
        {
          "output_type": "stream",
          "text": [
            "[1 2 3 4]\n",
            "[[1 2]\n",
            " [3 4]]\n"
          ],
          "name": "stdout"
        }
      ]
    },
    {
      "cell_type": "markdown",
      "metadata": {
        "id": "1wN1i7sQQ-8c"
      },
      "source": [
        "## Algebra linear: modulo `linalg` "
      ]
    },
    {
      "cell_type": "code",
      "metadata": {
        "colab": {
          "base_uri": "https://localhost:8080/"
        },
        "id": "D1DMkc95Q-JJ",
        "outputId": "812e4725-9d4f-465a-8bf7-f3e6a8bd545d"
      },
      "source": [
        "np.linalg.det(B)"
      ],
      "execution_count": 3,
      "outputs": [
        {
          "output_type": "execute_result",
          "data": {
            "text/plain": [
              "-2.0000000000000004"
            ]
          },
          "metadata": {
            "tags": []
          },
          "execution_count": 3
        }
      ]
    }
  ]
}