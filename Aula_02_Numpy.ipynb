{
  "nbformat": 4,
  "nbformat_minor": 0,
  "metadata": {
    "colab": {
      "name": "Aula_02_Numpy.ipynb",
      "provenance": [],
      "authorship_tag": "ABX9TyPoIpWczcb/ZURBrlTVapbt",
      "include_colab_link": true
    },
    "kernelspec": {
      "name": "python3",
      "display_name": "Python 3"
    },
    "language_info": {
      "name": "python"
    }
  },
  "cells": [
    {
      "cell_type": "markdown",
      "metadata": {
        "id": "view-in-github",
        "colab_type": "text"
      },
      "source": [
        "<a href=\"https://colab.research.google.com/github/crisfisico/minicurso-python/blob/main/Aula_02_Numpy.ipynb\" target=\"_parent\"><img src=\"https://colab.research.google.com/assets/colab-badge.svg\" alt=\"Open In Colab\"/></a>"
      ]
    },
    {
      "cell_type": "markdown",
      "metadata": {
        "id": "vRaP4TALQe27"
      },
      "source": [
        "## A versao em uso do Python"
      ]
    },
    {
      "cell_type": "code",
      "metadata": {
        "colab": {
          "base_uri": "https://localhost:8080/"
        },
        "id": "T_w5Ic0fOwF2",
        "outputId": "4599b4a2-2417-4643-f5ad-52bd114ef499"
      },
      "source": [
        "!python --version"
      ],
      "execution_count": null,
      "outputs": [
        {
          "output_type": "stream",
          "text": [
            "Python 3.7.11\n"
          ],
          "name": "stdout"
        }
      ]
    },
    {
      "cell_type": "markdown",
      "metadata": {
        "id": "bO80AmjvSAw9"
      },
      "source": [
        "## Tipos de dados"
      ]
    },
    {
      "cell_type": "markdown",
      "metadata": {
        "id": "Qop175BjSRWq"
      },
      "source": [
        "## Numerico"
      ]
    },
    {
      "cell_type": "markdown",
      "metadata": {
        "id": "zFgUAHVCSWo4"
      },
      "source": [
        "### inteiro: int"
      ]
    },
    {
      "cell_type": "code",
      "metadata": {
        "colab": {
          "base_uri": "https://localhost:8080/"
        },
        "id": "JRyS75viPGB4",
        "outputId": "a25c7e0d-aae1-4324-db2d-21255f12fdef"
      },
      "source": [
        "x = 10\n",
        "print(\"x =\",x)\n",
        "print(type(x))"
      ],
      "execution_count": null,
      "outputs": [
        {
          "output_type": "stream",
          "text": [
            "x = 10\n",
            "<class 'int'>\n"
          ],
          "name": "stdout"
        }
      ]
    },
    {
      "cell_type": "code",
      "metadata": {
        "colab": {
          "base_uri": "https://localhost:8080/"
        },
        "id": "3sHpZ-FQSqsE",
        "outputId": "038c4837-dbae-4691-f154-f8ecc3be61dc"
      },
      "source": [
        "y = int(20)\n",
        "print(y)\n",
        "print(type(y))"
      ],
      "execution_count": null,
      "outputs": [
        {
          "output_type": "stream",
          "text": [
            "20\n",
            "<class 'int'>\n"
          ],
          "name": "stdout"
        }
      ]
    },
    {
      "cell_type": "markdown",
      "metadata": {
        "id": "aNBiBmQEUH0t"
      },
      "source": [
        "### decimal: float"
      ]
    },
    {
      "cell_type": "code",
      "metadata": {
        "colab": {
          "base_uri": "https://localhost:8080/"
        },
        "id": "wThjFVveTpmj",
        "outputId": "4261c2e2-055b-4cf0-bb70-23f764c2a3cb"
      },
      "source": [
        "# m eh a massa da particula\n",
        "m = 80.30 # [m]=kg\n",
        "print(m)\n",
        "print(type(m))"
      ],
      "execution_count": null,
      "outputs": [
        {
          "output_type": "stream",
          "text": [
            "80.3\n",
            "<class 'float'>\n"
          ],
          "name": "stdout"
        }
      ]
    },
    {
      "cell_type": "code",
      "metadata": {
        "colab": {
          "base_uri": "https://localhost:8080/"
        },
        "id": "T85moFiaUW_J",
        "outputId": "555e57a1-4dc9-4092-ab11-1a0e81ede6a4"
      },
      "source": [
        "# massa terra - notacao cientifica\n",
        "massa_t = 5.972e24 # [m]=kg\n",
        "print(massa_t)\n",
        "print(type(massa_t))"
      ],
      "execution_count": null,
      "outputs": [
        {
          "output_type": "stream",
          "text": [
            "5.972e+24\n",
            "<class 'float'>\n"
          ],
          "name": "stdout"
        }
      ]
    },
    {
      "cell_type": "markdown",
      "metadata": {
        "id": "ACT1CZ0aaE9U"
      },
      "source": [
        "### num complexo: complex"
      ]
    },
    {
      "cell_type": "code",
      "metadata": {
        "colab": {
          "base_uri": "https://localhost:8080/"
        },
        "id": "JovrLZeVZ8PM",
        "outputId": "7972d613-4882-4d74-9e3e-bb15a5733e1f"
      },
      "source": [
        "z = 9+8j\n",
        "print(z)\n",
        "print(type(z))"
      ],
      "execution_count": null,
      "outputs": [
        {
          "output_type": "stream",
          "text": [
            "(9+8j)\n",
            "<class 'complex'>\n"
          ],
          "name": "stdout"
        }
      ]
    },
    {
      "cell_type": "markdown",
      "metadata": {
        "id": "Ii9qkyzSa0zR"
      },
      "source": [
        "## Sequencia"
      ]
    },
    {
      "cell_type": "markdown",
      "metadata": {
        "id": "zZLrKAbSa9Gv"
      },
      "source": [
        "### string: str"
      ]
    },
    {
      "cell_type": "code",
      "metadata": {
        "colab": {
          "base_uri": "https://localhost:8080/"
        },
        "id": "cs7aIoIbaZfU",
        "outputId": "6b2e57b3-9f76-42fd-e57e-cc2ce4d92413"
      },
      "source": [
        "my_str = 'Python' \n",
        "print(my_str)\n",
        "print(type(my_str))"
      ],
      "execution_count": null,
      "outputs": [
        {
          "output_type": "stream",
          "text": [
            "Python\n",
            "<class 'str'>\n"
          ],
          "name": "stdout"
        }
      ]
    },
    {
      "cell_type": "code",
      "metadata": {
        "colab": {
          "base_uri": "https://localhost:8080/"
        },
        "id": "5jOBDyGnbIYg",
        "outputId": "60c68ef6-5bf9-474f-bb8c-c43dcfab65de"
      },
      "source": [
        "# acessando caracteres\n",
        "print(my_str[0])\n",
        "print(my_str[1])\n",
        "print(my_str[2])\n",
        "print(my_str[3])\n",
        "print(my_str[4])\n",
        "print(my_str[5])\n",
        "#print(my_str[6]) # nao existe!"
      ],
      "execution_count": null,
      "outputs": [
        {
          "output_type": "stream",
          "text": [
            "P\n",
            "y\n",
            "t\n",
            "h\n",
            "o\n",
            "n\n"
          ],
          "name": "stdout"
        }
      ]
    },
    {
      "cell_type": "markdown",
      "metadata": {
        "id": "iSgkthh7cMYU"
      },
      "source": [
        "### Lista: list"
      ]
    },
    {
      "cell_type": "code",
      "metadata": {
        "colab": {
          "base_uri": "https://localhost:8080/"
        },
        "id": "tIDFYbOjbqvu",
        "outputId": "0d9830b0-27d8-47be-faa6-d4d0e447b06f"
      },
      "source": [
        "my_list = ['banana','abacate','laranja','pera']\n",
        "print(my_list)\n",
        "print(type(my_list))"
      ],
      "execution_count": null,
      "outputs": [
        {
          "output_type": "stream",
          "text": [
            "['banana', 'abacate', 'laranja', 'pera']\n",
            "<class 'list'>\n"
          ],
          "name": "stdout"
        }
      ]
    },
    {
      "cell_type": "code",
      "metadata": {
        "colab": {
          "base_uri": "https://localhost:8080/"
        },
        "id": "FwVJRkWUcZ1l",
        "outputId": "265a97ed-9b69-4bdf-f83c-72a15ad9ae29"
      },
      "source": [
        "print(my_list[0])\n",
        "print(my_list[-1]) #equiv a [3]\n",
        "print(my_list[-2])"
      ],
      "execution_count": null,
      "outputs": [
        {
          "output_type": "stream",
          "text": [
            "banana\n",
            "pera\n",
            "laranja\n"
          ],
          "name": "stdout"
        }
      ]
    },
    {
      "cell_type": "code",
      "metadata": {
        "colab": {
          "base_uri": "https://localhost:8080/"
        },
        "id": "m1KqAeSoc6c0",
        "outputId": "35e6e823-ccf7-46e4-897e-1c710470b435"
      },
      "source": [
        "# slicing \n",
        "print(my_list[:]) #todos itens\n",
        "print(my_list[0:2])\n",
        "print(my_list[:2])\n"
      ],
      "execution_count": null,
      "outputs": [
        {
          "output_type": "stream",
          "text": [
            "['banana', 'abacate', 'laranja', 'pera']\n",
            "['banana', 'abacate']\n",
            "['banana', 'abacate']\n"
          ],
          "name": "stdout"
        }
      ]
    },
    {
      "cell_type": "code",
      "metadata": {
        "colab": {
          "base_uri": "https://localhost:8080/"
        },
        "id": "7M_y5zitfckQ",
        "outputId": "cac41f2a-7ac7-4f5e-b6a8-d442a0acb6a4"
      },
      "source": [
        "## modificando um item da lista\n",
        "print(my_list)\n",
        "my_list[0] = 'uva'\n",
        "print(my_list)"
      ],
      "execution_count": null,
      "outputs": [
        {
          "output_type": "stream",
          "text": [
            "['banana', 'abacate', 'laranja', 'pera']\n",
            "['uva', 'abacate', 'laranja', 'pera']\n"
          ],
          "name": "stdout"
        }
      ]
    },
    {
      "cell_type": "code",
      "metadata": {
        "colab": {
          "base_uri": "https://localhost:8080/"
        },
        "id": "_eNC9syKdqIq",
        "outputId": "20d70880-bb7b-4297-b8ae-ef3040f1fb5a"
      },
      "source": [
        "#print(my_list[start:end:step])\n",
        "print(my_list[::3]) # dois em dois"
      ],
      "execution_count": null,
      "outputs": [
        {
          "output_type": "stream",
          "text": [
            "['banana', 'pera']\n"
          ],
          "name": "stdout"
        }
      ]
    },
    {
      "cell_type": "markdown",
      "metadata": {
        "id": "Sm-D44Dre1BC"
      },
      "source": [
        "### tuple"
      ]
    },
    {
      "cell_type": "code",
      "metadata": {
        "colab": {
          "base_uri": "https://localhost:8080/",
          "height": 245
        },
        "id": "PlS415E-eWyk",
        "outputId": "64a0c646-04ca-4c73-c984-4a3f50035d73"
      },
      "source": [
        "my_tuple = (11,25,78,43.9)\n",
        "print(my_tuple)\n",
        "print(type(my_tuple))\n",
        "my_tuple[0] = 5 # TypeError!"
      ],
      "execution_count": null,
      "outputs": [
        {
          "output_type": "stream",
          "text": [
            "(11, 25, 78, 43.9)\n",
            "<class 'tuple'>\n"
          ],
          "name": "stdout"
        },
        {
          "output_type": "error",
          "ename": "TypeError",
          "evalue": "ignored",
          "traceback": [
            "\u001b[0;31m---------------------------------------------------------------------------\u001b[0m",
            "\u001b[0;31mTypeError\u001b[0m                                 Traceback (most recent call last)",
            "\u001b[0;32m<ipython-input-44-025aa526c7f7>\u001b[0m in \u001b[0;36m<module>\u001b[0;34m()\u001b[0m\n\u001b[1;32m      2\u001b[0m \u001b[0mprint\u001b[0m\u001b[0;34m(\u001b[0m\u001b[0mmy_tuple\u001b[0m\u001b[0;34m)\u001b[0m\u001b[0;34m\u001b[0m\u001b[0;34m\u001b[0m\u001b[0m\n\u001b[1;32m      3\u001b[0m \u001b[0mprint\u001b[0m\u001b[0;34m(\u001b[0m\u001b[0mtype\u001b[0m\u001b[0;34m(\u001b[0m\u001b[0mmy_tuple\u001b[0m\u001b[0;34m)\u001b[0m\u001b[0;34m)\u001b[0m\u001b[0;34m\u001b[0m\u001b[0;34m\u001b[0m\u001b[0m\n\u001b[0;32m----> 4\u001b[0;31m \u001b[0mmy_tuple\u001b[0m\u001b[0;34m[\u001b[0m\u001b[0;36m0\u001b[0m\u001b[0;34m]\u001b[0m \u001b[0;34m=\u001b[0m \u001b[0;36m5\u001b[0m\u001b[0;34m\u001b[0m\u001b[0;34m\u001b[0m\u001b[0m\n\u001b[0m",
            "\u001b[0;31mTypeError\u001b[0m: 'tuple' object does not support item assignment"
          ]
        }
      ]
    },
    {
      "cell_type": "code",
      "metadata": {
        "colab": {
          "base_uri": "https://localhost:8080/"
        },
        "id": "PzLF-kvLfDqH",
        "outputId": "a5730e7f-d5dc-43f3-adea-d1ad10500b98"
      },
      "source": [
        "my_tuple\n",
        "my_list"
      ],
      "execution_count": null,
      "outputs": [
        {
          "output_type": "execute_result",
          "data": {
            "text/plain": [
              "['uva', 'abacate', 'laranja', 'pera']"
            ]
          },
          "metadata": {
            "tags": []
          },
          "execution_count": 46
        }
      ]
    },
    {
      "cell_type": "markdown",
      "metadata": {
        "id": "r_RAbhGYgvp_"
      },
      "source": [
        "## Conjunto: Set"
      ]
    },
    {
      "cell_type": "code",
      "metadata": {
        "colab": {
          "base_uri": "https://localhost:8080/"
        },
        "id": "uVhqY0Qwf7pI",
        "outputId": "42afddf8-9558-4058-a652-816dfacf21e1"
      },
      "source": [
        "my_set = {100, 40, 'uva'}\n",
        "print(my_set)\n",
        "print(type(my_set))"
      ],
      "execution_count": null,
      "outputs": [
        {
          "output_type": "stream",
          "text": [
            "{40, 100, 'uva'}\n",
            "<class 'set'>\n"
          ],
          "name": "stdout"
        }
      ]
    },
    {
      "cell_type": "code",
      "metadata": {
        "colab": {
          "base_uri": "https://localhost:8080/",
          "height": 171
        },
        "id": "fQevHYrFhK6Q",
        "outputId": "d8035133-b9d4-4ee1-c195-72e9e1a09010"
      },
      "source": [
        "my_set[0] #TypeError"
      ],
      "execution_count": null,
      "outputs": [
        {
          "output_type": "error",
          "ename": "TypeError",
          "evalue": "ignored",
          "traceback": [
            "\u001b[0;31m---------------------------------------------------------------------------\u001b[0m",
            "\u001b[0;31mTypeError\u001b[0m                                 Traceback (most recent call last)",
            "\u001b[0;32m<ipython-input-48-158c424478a1>\u001b[0m in \u001b[0;36m<module>\u001b[0;34m()\u001b[0m\n\u001b[0;32m----> 1\u001b[0;31m \u001b[0mmy_set\u001b[0m\u001b[0;34m[\u001b[0m\u001b[0;36m0\u001b[0m\u001b[0;34m]\u001b[0m\u001b[0;34m\u001b[0m\u001b[0;34m\u001b[0m\u001b[0m\n\u001b[0m",
            "\u001b[0;31mTypeError\u001b[0m: 'set' object is not subscriptable"
          ]
        }
      ]
    },
    {
      "cell_type": "markdown",
      "metadata": {
        "id": "JUA6a0V3hnAi"
      },
      "source": [
        "## Dicionario: dict"
      ]
    },
    {
      "cell_type": "code",
      "metadata": {
        "colab": {
          "base_uri": "https://localhost:8080/"
        },
        "id": "13jk9reOhbpv",
        "outputId": "137f336c-86d8-4220-ea8e-2afa5497251d"
      },
      "source": [
        "my_dict = {'nome':'maria','idade':25,'fone':41999}\n",
        "print(my_dict)\n",
        "print(type(my_dict))"
      ],
      "execution_count": null,
      "outputs": [
        {
          "output_type": "stream",
          "text": [
            "{'nome': 'maria', 'idade': 25, 'fone': 41999}\n",
            "<class 'dict'>\n"
          ],
          "name": "stdout"
        }
      ]
    },
    {
      "cell_type": "code",
      "metadata": {
        "colab": {
          "base_uri": "https://localhost:8080/"
        },
        "id": "x_LfHdn4iC37",
        "outputId": "f5089742-7119-423d-f08f-dbde7e401b3b"
      },
      "source": [
        "print(my_dict['nome'])\n",
        "print(my_dict['idade'])"
      ],
      "execution_count": null,
      "outputs": [
        {
          "output_type": "stream",
          "text": [
            "maria\n",
            "25\n"
          ],
          "name": "stdout"
        }
      ]
    },
    {
      "cell_type": "code",
      "metadata": {
        "colab": {
          "base_uri": "https://localhost:8080/"
        },
        "id": "Hg_syVDziUZB",
        "outputId": "f903fe94-fd15-49ab-e0cf-9f1f04d54f64"
      },
      "source": [
        "tabela = {\"tempo\":[0,1,2],\"posicao\": [1.3,5.8,10.0]}\n",
        "print(tabela)"
      ],
      "execution_count": null,
      "outputs": [
        {
          "output_type": "stream",
          "text": [
            "{'tempo': [0, 1, 2], 'posicao': [1.3, 5.8, 10.0]}\n"
          ],
          "name": "stdout"
        }
      ]
    },
    {
      "cell_type": "code",
      "metadata": {
        "colab": {
          "base_uri": "https://localhost:8080/"
        },
        "id": "-1z8VIz2ipTo",
        "outputId": "110b27cd-4054-45fa-fae3-966d03e0db06"
      },
      "source": [
        "print(tabela['tempo'])"
      ],
      "execution_count": null,
      "outputs": [
        {
          "output_type": "stream",
          "text": [
            "[0, 1, 2]\n"
          ],
          "name": "stdout"
        }
      ]
    },
    {
      "cell_type": "markdown",
      "metadata": {
        "id": "hj1UKr1UjEOs"
      },
      "source": [
        "## Booleano: Bool"
      ]
    },
    {
      "cell_type": "code",
      "metadata": {
        "colab": {
          "base_uri": "https://localhost:8080/"
        },
        "id": "8EQZdOYMixXX",
        "outputId": "d49932bf-04a1-41a6-ee51-d518ea68320e"
      },
      "source": [
        "var1, var2 = True, False\n",
        "print(var1,var2)\n",
        "print(type(var1),type(var2))\n"
      ],
      "execution_count": null,
      "outputs": [
        {
          "output_type": "stream",
          "text": [
            "True False\n",
            "<class 'bool'> <class 'bool'>\n"
          ],
          "name": "stdout"
        }
      ]
    },
    {
      "cell_type": "code",
      "metadata": {
        "id": "3eej3LJjjQ5K"
      },
      "source": [
        "var = [1,2,[3,4]]"
      ],
      "execution_count": null,
      "outputs": []
    },
    {
      "cell_type": "code",
      "metadata": {
        "colab": {
          "base_uri": "https://localhost:8080/"
        },
        "id": "IdmFeqdGxwzK",
        "outputId": "1a8cae45-984e-46e3-a709-d538eadc36d3"
      },
      "source": [
        "var[2][0]"
      ],
      "execution_count": null,
      "outputs": [
        {
          "output_type": "execute_result",
          "data": {
            "text/plain": [
              "3"
            ]
          },
          "metadata": {
            "tags": []
          },
          "execution_count": 63
        }
      ]
    },
    {
      "cell_type": "code",
      "metadata": {
        "id": "1VLghFQaxyXh",
        "colab": {
          "base_uri": "https://localhost:8080/"
        },
        "outputId": "7377b0ca-2330-4457-d099-ac36ac202a73"
      },
      "source": [
        "my_list = [1,2,'a',3.4]\n",
        "print(my_list[2])"
      ],
      "execution_count": null,
      "outputs": [
        {
          "output_type": "stream",
          "text": [
            "a\n"
          ],
          "name": "stdout"
        }
      ]
    },
    {
      "cell_type": "code",
      "metadata": {
        "colab": {
          "base_uri": "https://localhost:8080/"
        },
        "id": "Nrg3GUedU4Cp",
        "outputId": "b21ad35e-03a9-4b4b-fae6-dbe31fa9b809"
      },
      "source": [
        "my_list = [1,2,[6,7]]\n",
        "print(my_list)\n",
        "print(my_list[2][0])"
      ],
      "execution_count": null,
      "outputs": [
        {
          "output_type": "stream",
          "text": [
            "[1, 2, [6, 7]]\n",
            "6\n"
          ],
          "name": "stdout"
        }
      ]
    },
    {
      "cell_type": "markdown",
      "metadata": {
        "id": "j20m7_WiEYMC"
      },
      "source": [
        "# Perguntas da ultima aula:"
      ]
    },
    {
      "cell_type": "code",
      "metadata": {
        "id": "5DqeVA8cEcl7"
      },
      "source": [
        "# O que aconteceria se eu fizesse: x = int(2.3)? "
      ],
      "execution_count": null,
      "outputs": []
    },
    {
      "cell_type": "code",
      "metadata": {
        "id": "gHE98-fhEt5D"
      },
      "source": [
        "# O que aconteceria se eu fizesse: x = str(1) e depois definisse y = x + x\n",
        "# Faz sentido o resultado obtido? Porque?"
      ],
      "execution_count": null,
      "outputs": []
    },
    {
      "cell_type": "code",
      "metadata": {
        "id": "s-etuj7oFJ1G"
      },
      "source": [
        "# defina my_dict = {'a':1,'b':2,'c':3,'d':4} e de um print\": my_dict; my_dict.keys(); my_dict.values(); my_dict.items() "
      ],
      "execution_count": null,
      "outputs": []
    },
    {
      "cell_type": "markdown",
      "metadata": {
        "id": "HZbCOYB6Vmwf"
      },
      "source": [
        "# Operadores"
      ]
    },
    {
      "cell_type": "markdown",
      "metadata": {
        "id": "3WHJW-PdVp92"
      },
      "source": [
        "## Aritméticos"
      ]
    },
    {
      "cell_type": "code",
      "metadata": {
        "id": "KFvgiOjuVpDF"
      },
      "source": [
        "x = 5\n",
        "y = 2\n",
        "print(x + y) # Adicao\n",
        "print(x - y) #diferenca\n",
        "print(x * y) # multiplicacao\n",
        "print(x / y) # divisao\n",
        "print(x // y) # Floor division\n",
        "print(x % y) # modulus\n",
        "print(x ** y) # Exponenciacao\n",
        "\n",
        "# Tarefas:\n",
        "# 1) de um print do type de cada uma das operacoes acima, o que vc pode afirmar sobre o type final?;\n",
        "# 2) defina y = 0.5 e refaça as os prints acima;\n",
        "# 3) de um print do type de cada uma das operacoes par y=0.5, o que vc pode afirmar sobre o type final?;"
      ],
      "execution_count": null,
      "outputs": []
    },
    {
      "cell_type": "code",
      "metadata": {
        "colab": {
          "base_uri": "https://localhost:8080/"
        },
        "id": "UsJtWIv4XVIZ",
        "outputId": "fe8e7091-29b0-4f71-b763-0a160282fe0f"
      },
      "source": [
        "((a-b)/b)*u"
      ],
      "execution_count": null,
      "outputs": [
        {
          "output_type": "execute_result",
          "data": {
            "text/plain": [
              "0.3333333333333333"
            ]
          },
          "metadata": {
            "tags": []
          },
          "execution_count": 16
        }
      ]
    },
    {
      "cell_type": "markdown",
      "metadata": {
        "id": "nND-hzKeWz52"
      },
      "source": [
        "## Lógicos"
      ]
    },
    {
      "cell_type": "code",
      "metadata": {
        "colab": {
          "base_uri": "https://localhost:8080/"
        },
        "id": "1HfoY2S6V2tR",
        "outputId": "ecf672a2-d369-4a57-dc3d-52b7ceff2fc8"
      },
      "source": [
        "t,f = True,False\n",
        "print(t)\n",
        "print(f)\n",
        "print(t,f)\n",
        "print(type(t))"
      ],
      "execution_count": null,
      "outputs": [
        {
          "output_type": "stream",
          "text": [
            "True\n",
            "False\n",
            "True False\n",
            "<class 'bool'>\n"
          ],
          "name": "stdout"
        }
      ]
    },
    {
      "cell_type": "code",
      "metadata": {
        "id": "_dc4g4BkW9gM"
      },
      "source": [
        "print(t and f) # \"E\" LOGICO\n",
        "print(t or f)  # \"OU\" LOGICO\n",
        "print(not f)   # \"NAO\" LOGICO\n",
        "print(t != f)  # \"XOR\" LOGICO (DIFERENTE)"
      ],
      "execution_count": null,
      "outputs": []
    },
    {
      "cell_type": "markdown",
      "metadata": {
        "id": "uT6uwpBBaLKN"
      },
      "source": [
        "## Relacionais"
      ]
    },
    {
      "cell_type": "code",
      "metadata": {
        "id": "l2RWyJgTZAgF"
      },
      "source": [
        "x = 10\n",
        "y = 7\n",
        "z = 3\n",
        "# > maior que \"greater than\"\n",
        "print(x>y)   # True\n",
        "print(x>y>z) #True\n",
        "\n",
        "# < menor que \"less than\"\n",
        "print(x<y)\n",
        "print(y<x)\n",
        "\n",
        "# == Igual a \"equal to\"\n",
        "print(x==y) \n",
        "print(x==10)\n",
        "\n",
        "# != não igual (diferente)\n",
        "print(x != y) \n",
        "print(x != 10)\n",
        "\n",
        "# >= maior ou igual a \"greater than or equal to\"\n",
        "print(x >=y)\n",
        "print(x >=10)\n",
        "\n",
        "# <= menor ou igual a \"less than or equal to\"\n",
        "print(x <= y)"
      ],
      "execution_count": null,
      "outputs": []
    },
    {
      "cell_type": "code",
      "metadata": {
        "colab": {
          "base_uri": "https://localhost:8080/"
        },
        "id": "RmKJcYlJdlH4",
        "outputId": "198fbde6-39d7-4332-9e26-f9c5d1aab2f0"
      },
      "source": [
        "## atribuição\n",
        "\n",
        "a = 7\n",
        "b = 2\n",
        "print(a,b)\n",
        "\n",
        "a += b # a = a + b\n",
        "print(a,b)\n",
        "\n",
        "a = 7\n",
        "b = 2\n",
        "a -= b # a = a - b\n",
        "print(a,b)\n",
        "\n",
        "a=7\n",
        "b=2\n",
        "a *= b # a = a*b\n",
        "print(a,b)\n",
        "\n",
        "a=7\n",
        "b=2\n",
        "a /= b # a = a/b\n",
        "print(a,b)\n",
        "\n",
        "# tarefa: testar os casos // (floor) e % (modulus), seguindo a mesma logica"
      ],
      "execution_count": null,
      "outputs": [
        {
          "output_type": "stream",
          "text": [
            "7 2\n",
            "9 2\n",
            "5 2\n",
            "14 2\n",
            "3.5 2\n"
          ],
          "name": "stdout"
        }
      ]
    },
    {
      "cell_type": "markdown",
      "metadata": {
        "id": "BuAIEcnhe8PS"
      },
      "source": [
        "# Estruturas de controle"
      ]
    },
    {
      "cell_type": "code",
      "metadata": {
        "id": "PHPGFs7Habzg"
      },
      "source": [
        "## IF (SE)\n",
        "\n",
        "number = 10\n",
        "if number > 11:\n",
        "  print(number)\n",
        "  print(number*number)"
      ],
      "execution_count": null,
      "outputs": []
    },
    {
      "cell_type": "code",
      "metadata": {
        "colab": {
          "base_uri": "https://localhost:8080/"
        },
        "id": "cRWFQDuPf-iR",
        "outputId": "54a92fe8-a517-4f9b-d59e-88d4c3854b6a"
      },
      "source": [
        "## IF (SE)\n",
        "\n",
        "number = 10\n",
        "if number > 11:\n",
        "  print(number)\n",
        "print(number*number)"
      ],
      "execution_count": null,
      "outputs": [
        {
          "output_type": "stream",
          "text": [
            "100\n"
          ],
          "name": "stdout"
        }
      ]
    },
    {
      "cell_type": "code",
      "metadata": {
        "colab": {
          "base_uri": "https://localhost:8080/"
        },
        "id": "fUueveE_gi09",
        "outputId": "1b8614f3-4bef-4668-e848-7a0dfd42b983"
      },
      "source": [
        "## IF-ELSE\n",
        "\n",
        "number = 10\n",
        "if number > 11:\n",
        "  print('é maior que 11')\n",
        "else:\n",
        "  print('é menor que 11')"
      ],
      "execution_count": null,
      "outputs": [
        {
          "output_type": "stream",
          "text": [
            "é menor que 11\n"
          ],
          "name": "stdout"
        }
      ]
    },
    {
      "cell_type": "markdown",
      "metadata": {
        "id": "2Df7btQTiXgQ"
      },
      "source": [
        "# loop FOR"
      ]
    },
    {
      "cell_type": "code",
      "metadata": {
        "colab": {
          "base_uri": "https://localhost:8080/"
        },
        "id": "ag7LkOmRh500",
        "outputId": "480e58ee-eda7-446b-c772-d3fe653faac6"
      },
      "source": [
        "for i in [1,2,3,4]:\n",
        "  print(i)"
      ],
      "execution_count": null,
      "outputs": [
        {
          "output_type": "stream",
          "text": [
            "1\n",
            "2\n",
            "3\n",
            "4\n"
          ],
          "name": "stdout"
        }
      ]
    },
    {
      "cell_type": "code",
      "metadata": {
        "colab": {
          "base_uri": "https://localhost:8080/"
        },
        "id": "M-uukx1FiqDN",
        "outputId": "36d69ca8-c78d-4ab2-b90c-5b32f05700af"
      },
      "source": [
        "my_list = [1,2,3,4]\n",
        "for i in my_list:\n",
        "  print(i)"
      ],
      "execution_count": null,
      "outputs": [
        {
          "output_type": "stream",
          "text": [
            "1\n",
            "2\n",
            "3\n",
            "4\n"
          ],
          "name": "stdout"
        }
      ]
    },
    {
      "cell_type": "code",
      "metadata": {
        "colab": {
          "base_uri": "https://localhost:8080/"
        },
        "id": "zP5564CBi0Ff",
        "outputId": "049ea13e-5624-43a7-b5c5-8ad044d4a172"
      },
      "source": [
        "my_list = ['banana','pera','uva']\n",
        "for i in my_list:\n",
        "  print(i)"
      ],
      "execution_count": null,
      "outputs": [
        {
          "output_type": "stream",
          "text": [
            "banana\n",
            "pera\n",
            "uva\n"
          ],
          "name": "stdout"
        }
      ]
    },
    {
      "cell_type": "code",
      "metadata": {
        "colab": {
          "base_uri": "https://localhost:8080/"
        },
        "id": "Y-2DoqF_jDKy",
        "outputId": "5a538ce8-8e6d-4564-cd87-8b1c58f9b21f"
      },
      "source": [
        "my_tuple = (1,2,3,4)\n",
        "for i in my_tuple:\n",
        "  print(i)\n"
      ],
      "execution_count": null,
      "outputs": [
        {
          "output_type": "stream",
          "text": [
            "1\n",
            "2\n",
            "3\n",
            "4\n"
          ],
          "name": "stdout"
        }
      ]
    },
    {
      "cell_type": "code",
      "metadata": {
        "colab": {
          "base_uri": "https://localhost:8080/"
        },
        "id": "zKUH4_u5jWP5",
        "outputId": "4c65c346-85da-47fd-ffb4-1f38c1a144ef"
      },
      "source": [
        "n = 10\n",
        "for i in range(n):\n",
        "  print(i)"
      ],
      "execution_count": null,
      "outputs": [
        {
          "output_type": "stream",
          "text": [
            "0\n",
            "1\n",
            "2\n",
            "3\n",
            "4\n",
            "5\n",
            "6\n",
            "7\n",
            "8\n",
            "9\n"
          ],
          "name": "stdout"
        }
      ]
    },
    {
      "cell_type": "markdown",
      "metadata": {
        "id": "YvsVPA-umbHb"
      },
      "source": [
        "# Importando bibliotecas (modulos)"
      ]
    },
    {
      "cell_type": "code",
      "metadata": {
        "colab": {
          "base_uri": "https://localhost:8080/"
        },
        "id": "F_V4X8mHksGX",
        "outputId": "298c0ac7-db4b-42d3-f0bc-6676d2ddb17a"
      },
      "source": [
        "import math\n",
        "print(math.sqrt(2))\n",
        "print(math.factorial(3))"
      ],
      "execution_count": null,
      "outputs": [
        {
          "output_type": "stream",
          "text": [
            "1.4142135623730951\n",
            "6\n"
          ],
          "name": "stdout"
        }
      ]
    },
    {
      "cell_type": "code",
      "metadata": {
        "colab": {
          "base_uri": "https://localhost:8080/"
        },
        "id": "xo4lUaLim6Cx",
        "outputId": "3eb65bee-aa13-41d1-f65c-6fdbe573d86d"
      },
      "source": [
        "from math import factorial\n",
        "print(math.factorial(3))\n",
        "print(factorial(3))"
      ],
      "execution_count": null,
      "outputs": [
        {
          "output_type": "stream",
          "text": [
            "6\n",
            "6\n"
          ],
          "name": "stdout"
        }
      ]
    },
    {
      "cell_type": "code",
      "metadata": {
        "id": "B9iAidjMnzCM"
      },
      "source": [
        "import numpy as np\n"
      ],
      "execution_count": null,
      "outputs": []
    },
    {
      "cell_type": "code",
      "metadata": {
        "colab": {
          "base_uri": "https://localhost:8080/"
        },
        "id": "9LgvtnpAoje7",
        "outputId": "bb02c9af-a3e0-4dc0-cbf0-690cde510e7b"
      },
      "source": [
        "# criando um array de dim 1\n",
        "A = np.array([1,2,3])\n",
        "print(A)\n",
        "print(type(A))"
      ],
      "execution_count": null,
      "outputs": [
        {
          "output_type": "stream",
          "text": [
            "[1 2 3]\n",
            "<class 'numpy.ndarray'>\n"
          ],
          "name": "stdout"
        }
      ]
    },
    {
      "cell_type": "code",
      "metadata": {
        "colab": {
          "base_uri": "https://localhost:8080/"
        },
        "id": "3-HyZzGbpnoq",
        "outputId": "9b7ded4c-826c-45cf-aaac-459fc0e5f366"
      },
      "source": [
        "# alguns atributos do array A\n",
        "print(A.ndim)  # a dimensao de A\n",
        "print(A.shape) # as dimensoes do array\n",
        "print(A.size)  # numero de elementos de A\n",
        "print(A.dtype) # tipo numerico dos elementos"
      ],
      "execution_count": null,
      "outputs": [
        {
          "output_type": "stream",
          "text": [
            "1\n",
            "(3,)\n",
            "3\n",
            "int64\n"
          ],
          "name": "stdout"
        }
      ]
    },
    {
      "cell_type": "code",
      "metadata": {
        "colab": {
          "base_uri": "https://localhost:8080/"
        },
        "id": "3a3k6azWpx7t",
        "outputId": "719c1840-75e9-4c7e-d92d-32a49b1f2545"
      },
      "source": [
        "# Acessando os elementos:\n",
        "print(A[0])\n",
        "print(A[1])\n",
        "print(A)"
      ],
      "execution_count": null,
      "outputs": [
        {
          "output_type": "stream",
          "text": [
            "1\n",
            "2\n",
            "[1 2 3]\n"
          ],
          "name": "stdout"
        }
      ]
    },
    {
      "cell_type": "code",
      "metadata": {
        "colab": {
          "base_uri": "https://localhost:8080/"
        },
        "id": "xkB6RCGxqpoy",
        "outputId": "113da60b-6d27-4471-81da-13b1ceb037a0"
      },
      "source": [
        "# criando um array de dim 2 (tbm conhecido como matriz - na algebra linear)\n",
        "B = np.array([[1,2,3],[4,5,6],[7,8,9]])\n",
        "print(B)\n",
        "print(type(B))\n",
        "print(B.shape)"
      ],
      "execution_count": null,
      "outputs": [
        {
          "output_type": "stream",
          "text": [
            "[[1 2 3]\n",
            " [4 5 6]\n",
            " [7 8 9]]\n",
            "<class 'numpy.ndarray'>\n",
            "(3, 3)\n"
          ],
          "name": "stdout"
        }
      ]
    },
    {
      "cell_type": "code",
      "metadata": {
        "colab": {
          "base_uri": "https://localhost:8080/"
        },
        "id": "n9V6wV7hrRiL",
        "outputId": "adb89814-c5b1-47ef-9b73-192e2f9e0720"
      },
      "source": [
        "print(B[0][0]) # (1,1)\n",
        "print(B[0][1]) # (1,2)"
      ],
      "execution_count": null,
      "outputs": [
        {
          "output_type": "stream",
          "text": [
            "1\n",
            "2\n"
          ],
          "name": "stdout"
        }
      ]
    },
    {
      "cell_type": "code",
      "metadata": {
        "id": "WHaBPgTcr7Gz"
      },
      "source": [
        "# Tarefas:\n",
        "#1)refaçam os dois blocos acima para o caso float e complex.\n",
        "#2)refaçam o bloco \"A\" A = np.array([1,2,3],dtype=X), trocando X por int, float e complex"
      ],
      "execution_count": null,
      "outputs": []
    },
    {
      "cell_type": "markdown",
      "metadata": {
        "id": "PosPqG1qtPXa"
      },
      "source": [
        "## funcoes uteis em Numpy"
      ]
    },
    {
      "cell_type": "code",
      "metadata": {
        "colab": {
          "base_uri": "https://localhost:8080/"
        },
        "id": "7PLxKs0nsc6s",
        "outputId": "1653796f-2bee-4bf2-efe6-84581ac8134d"
      },
      "source": [
        "A = np.zeros((2,2))\n",
        "print(A)\n",
        "B = np.ones((2,2))\n",
        "print(B)\n",
        "C = np.empty((3,3))\n",
        "print(C)\n",
        "D = np.identity(4)\n",
        "print(D)"
      ],
      "execution_count": null,
      "outputs": [
        {
          "output_type": "stream",
          "text": [
            "[[0. 0.]\n",
            " [0. 0.]]\n",
            "[[1. 1.]\n",
            " [1. 1.]]\n",
            "[[4.9e-324 9.9e-324 1.5e-323]\n",
            " [2.0e-323 2.5e-323 3.0e-323]\n",
            " [3.5e-323 4.0e-323 4.4e-323]]\n",
            "[[1. 0. 0. 0.]\n",
            " [0. 1. 0. 0.]\n",
            " [0. 0. 1. 0.]\n",
            " [0. 0. 0. 1.]]\n"
          ],
          "name": "stdout"
        }
      ]
    },
    {
      "cell_type": "code",
      "metadata": {
        "colab": {
          "base_uri": "https://localhost:8080/"
        },
        "id": "7QTe0tX1uefL",
        "outputId": "232522d9-22a8-48e5-dca9-537d6fdabe9f"
      },
      "source": [
        "# Funcao arange()\n",
        "A = np.arange(0,4,1)\n",
        "print(A)"
      ],
      "execution_count": null,
      "outputs": [
        {
          "output_type": "stream",
          "text": [
            "[0 1 2 3]\n"
          ],
          "name": "stdout"
        }
      ]
    },
    {
      "cell_type": "code",
      "metadata": {
        "colab": {
          "base_uri": "https://localhost:8080/"
        },
        "id": "k8d_cI4Quspt",
        "outputId": "0502026c-ce1b-45ad-8912-e1f643769ce9"
      },
      "source": [
        "# Funcao linspace()\n",
        "B = np.linspace(0,4,5)\n",
        "print(B)\n",
        "C = np.linspace(0,4,10)\n",
        "print(C)"
      ],
      "execution_count": null,
      "outputs": [
        {
          "output_type": "stream",
          "text": [
            "[0. 1. 2. 3. 4.]\n",
            "[0.         0.44444444 0.88888889 1.33333333 1.77777778 2.22222222\n",
            " 2.66666667 3.11111111 3.55555556 4.        ]\n"
          ],
          "name": "stdout"
        }
      ]
    },
    {
      "cell_type": "code",
      "metadata": {
        "colab": {
          "base_uri": "https://localhost:8080/"
        },
        "id": "Tb77CJ7VvCP1",
        "outputId": "0f8501ab-90a4-4486-f903-825c81c18dbc"
      },
      "source": [
        "# duplicando cada elemento de uma lista\n",
        "a = [1,2,3,4]\n",
        "b = a+a\n",
        "print(a)\n",
        "print(b)"
      ],
      "execution_count": null,
      "outputs": [
        {
          "output_type": "stream",
          "text": [
            "[1, 2, 3, 4]\n",
            "[1, 2, 3, 4, 1, 2, 3, 4]\n"
          ],
          "name": "stdout"
        }
      ]
    },
    {
      "cell_type": "code",
      "metadata": {
        "colab": {
          "base_uri": "https://localhost:8080/"
        },
        "id": "jypelpDkv0H7",
        "outputId": "360e8c8c-9ea4-4b70-e700-bb76dc0557c6"
      },
      "source": [
        "# duplicando cada elemento de um array\n",
        "A = np.array([1,2,3,4])\n",
        "B = A + A \n",
        "print(A)\n",
        "print(B) "
      ],
      "execution_count": null,
      "outputs": [
        {
          "output_type": "stream",
          "text": [
            "[1 2 3 4]\n",
            "[2 4 6 8]\n"
          ],
          "name": "stdout"
        }
      ]
    },
    {
      "cell_type": "code",
      "metadata": {
        "colab": {
          "base_uri": "https://localhost:8080/"
        },
        "id": "qqa4avx1wHUa",
        "outputId": "707808de-fddb-407e-838f-f81d7d0a8682"
      },
      "source": [
        "C = 3*A\n",
        "print(A)\n",
        "print(C)"
      ],
      "execution_count": null,
      "outputs": [
        {
          "output_type": "stream",
          "text": [
            "[1 2 3 4]\n",
            "[ 3  6  9 12]\n"
          ],
          "name": "stdout"
        }
      ]
    },
    {
      "cell_type": "code",
      "metadata": {
        "colab": {
          "base_uri": "https://localhost:8080/"
        },
        "id": "XN700ZSHxl6K",
        "outputId": "f01cd6d2-ff42-4f36-d256-6edfa972d92f"
      },
      "source": [
        "A = np.array([[1,2],[3,4]])\n",
        "D = A*A\n",
        "print(A)\n",
        "print(D)"
      ],
      "execution_count": null,
      "outputs": [
        {
          "output_type": "stream",
          "text": [
            "[[1 2]\n",
            " [3 4]]\n",
            "[[ 1  4]\n",
            " [ 9 16]]\n"
          ],
          "name": "stdout"
        }
      ]
    },
    {
      "cell_type": "code",
      "metadata": {
        "id": "sYrVNdgNwtY4"
      },
      "source": [
        "# NOTA: as operacoes sao feitas elemento a elemento!"
      ],
      "execution_count": null,
      "outputs": []
    },
    {
      "cell_type": "code",
      "metadata": {
        "colab": {
          "base_uri": "https://localhost:8080/"
        },
        "id": "cK7Yt0aByFzq",
        "outputId": "0ff33505-869f-4fbb-c53f-ba134a40a6db"
      },
      "source": [
        "E = A@A\n",
        "F = A.dot(A)\n",
        "print(E)\n",
        "print(F)"
      ],
      "execution_count": null,
      "outputs": [
        {
          "output_type": "stream",
          "text": [
            "[[ 7 10]\n",
            " [15 22]]\n",
            "[[ 7 10]\n",
            " [15 22]]\n"
          ],
          "name": "stdout"
        }
      ]
    },
    {
      "cell_type": "code",
      "metadata": {
        "colab": {
          "base_uri": "https://localhost:8080/"
        },
        "id": "SoXdeJ_Bw8Tx",
        "outputId": "0a58c2f2-8abc-40a1-9937-bf523f987171"
      },
      "source": [
        "A = np.arange(1,5,1)\n",
        "print(A)\n",
        "B = np.arange(1,5,1).reshape(2,2)\n",
        "print(B)"
      ],
      "execution_count": null,
      "outputs": [
        {
          "output_type": "stream",
          "text": [
            "[1 2 3 4]\n",
            "[[1 2]\n",
            " [3 4]]\n"
          ],
          "name": "stdout"
        }
      ]
    },
    {
      "cell_type": "code",
      "metadata": {
        "id": "sH6yarYpxKSD"
      },
      "source": [
        "A"
      ],
      "execution_count": null,
      "outputs": []
    }
  ]
}