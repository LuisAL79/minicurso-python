{
  "nbformat": 4,
  "nbformat_minor": 0,
  "metadata": {
    "colab": {
      "name": "Aula_03_matplotlib.ipynb",
      "provenance": [],
      "collapsed_sections": [],
      "authorship_tag": "ABX9TyNPiJBZxbP+Nxxda7PoZKaK",
      "include_colab_link": true
    },
    "kernelspec": {
      "name": "python3",
      "display_name": "Python 3"
    },
    "language_info": {
      "name": "python"
    }
  },
  "cells": [
    {
      "cell_type": "markdown",
      "metadata": {
        "id": "view-in-github",
        "colab_type": "text"
      },
      "source": [
        "<a href=\"https://colab.research.google.com/github/crisfisico/minicurso-python/blob/main/Aula_03_matplotlib.ipynb\" target=\"_parent\"><img src=\"https://colab.research.google.com/assets/colab-badge.svg\" alt=\"Open In Colab\"/></a>"
      ]
    },
    {
      "cell_type": "markdown",
      "metadata": {
        "id": "fslfVomQXWuA"
      },
      "source": [
        "# Gráficos em Python com `matplotlib`\n",
        "\n",
        "[matplotlib.org](https://matplotlib.org/stable/index.html)\n",
        "\n",
        "Outras bibliotecas:\n",
        " \n",
        "*   [seaborn](https://seaborn.pydata.org/)\n",
        "*   [plotly](https://plotly.com/python/)\n",
        "\n",
        "\n",
        "\n"
      ]
    }
  ]
}